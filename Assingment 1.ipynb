{
 "cells": [
  {
   "cell_type": "markdown",
   "id": "6523d679",
   "metadata": {},
   "source": [
    "#   1. In the below elements which of them are values or an expression? eg:- values can be integer or string and expressions will be mathematical operators.\n",
    "\n",
    "\n",
    "#  *           expression\n",
    "#  'hello'  value (string)\n",
    "#  -87.8    value (int)\n",
    "#  -           expression\n",
    "#   /          expression\n",
    "#   +         expression\n",
    "#   6         value (int)"
   ]
  },
  {
   "cell_type": "markdown",
   "id": "7fc5f716",
   "metadata": {},
   "source": [
    "# 2. What is the difference between string and variable?\n",
    "variables are like containers to store in values via scripting , variables are assigned temperary memory in the system RAM , a varible can contain  all datatypes like integer values , strings , bool etc\n",
    "\n",
    "whereas strings is a data type that hold content in single brackets and double brackets eg: a = \"ram is sweet \" \n",
    "here a = variable  with string data type embedded in it and \" ram is sweet \"is a string."
   ]
  },
  {
   "cell_type": "markdown",
   "id": "dbea8fb6",
   "metadata": {},
   "source": [
    "# 3. Describe three different data types.\n",
    "\n",
    "a.int\n",
    "b.str\n",
    "c.float\n",
    "d.complex\n",
    "e.list"
   ]
  },
  {
   "cell_type": "markdown",
   "id": "0f3efd54",
   "metadata": {},
   "source": [
    "#  4.What is an expression made up of? What do all expressions do?\n",
    "An expression a mixture/combination of variables and mechanatical operators with defined language syntax to perform an operation , these operation can be simple arithmatic or complex user defined fuction calls being made in the program located localy in the system.\n",
    "\n",
    "An expression is a means to build a logic or hold temp values or  solve a data set or operation in order to get required single value result.\n"
   ]
  },
  {
   "cell_type": "markdown",
   "id": "05d0bde2",
   "metadata": {},
   "source": [
    "# 5. This assignment statements, like spam = 10. What is the difference between an\n",
    "expression and a statement?\n",
    "An statement just holds the vale and does not return a value \n",
    "where as an ecpression a mixture of operators with variable or function calls that is read and interpreted and executed by the compiler to yeild an value that can be passed on for further use as per problem statement.\n",
    "eg: spam = 10  : here spam acts as variable ( int ) and does not return a value .\n"
   ]
  },
  {
   "cell_type": "code",
   "execution_count": 1,
   "id": "c5bbee5f",
   "metadata": {},
   "outputs": [
    {
     "name": "stdout",
     "output_type": "stream",
     "text": [
      "22\n"
     ]
    }
   ],
   "source": [
    " #  6. After running the following code, what does the variable bacon contain?\n",
    "bacon = 22\n",
    "bacon + 1\n",
    "print (bacon)\n",
    "\n",
    "# thus it returs 22 as the new value is yet not assigned to bacon"
   ]
  },
  {
   "cell_type": "markdown",
   "id": "0537dec7",
   "metadata": {},
   "source": [
    " # 7.What should the values of the following two terms be?\n",
    "\"spam\" + \"spamspam\"       this will show result as \" spamspamspam\"    \n",
    "spam * 3                  this will show result as error since spam is not defined earlier as any variable "
   ]
  },
  {
   "cell_type": "markdown",
   "id": "753202e6",
   "metadata": {},
   "source": [
    "# 8. Why is eggs a valid variable name while 100 is invalid?\n",
    " A variable name can contain any uppercase or lowercase letter, can contain digits and the underscore character, but it can't start with a digit. \n",
    " eg : eggs is valid but 100 starts with digit thus not a variable."
   ]
  },
  {
   "cell_type": "markdown",
   "id": "069cfa95",
   "metadata": {},
   "source": [
    "# 9. What three functions can be used to get the integer, floating-point number, or string\n",
    "version of a value?\n",
    "int()\n",
    "float()\n",
    "str()\n"
   ]
  },
  {
   "cell_type": "code",
   "execution_count": 10,
   "id": "a7f9831a",
   "metadata": {},
   "outputs": [
    {
     "name": "stdout",
     "output_type": "stream",
     "text": [
      "10\n",
      "10.5\n",
      "deepanshu\n"
     ]
    }
   ],
   "source": [
    "a = 10.5\n",
    "b = 'deepanshu'\n",
    "print(int(a))\n",
    "print(float(a))\n",
    "print(str(b))"
   ]
  },
  {
   "cell_type": "markdown",
   "id": "f552e2cd",
   "metadata": {},
   "source": [
    " # 10. Why does this expression cause an error? How can you fix it?\n",
    "'I have eaten '+ 99 +' burritos.'"
   ]
  },
  {
   "cell_type": "markdown",
   "id": "4eccddfb",
   "metadata": {},
   "source": [
    " only strings can be concatenate to string 99 here is int data type , to fix it  in 2 ways"
   ]
  },
  {
   "cell_type": "code",
   "execution_count": 12,
   "id": "23dc0a59",
   "metadata": {},
   "outputs": [
    {
     "data": {
      "text/plain": [
       "'I have eaten 99 burritos.'"
      ]
     },
     "execution_count": 12,
     "metadata": {},
     "output_type": "execute_result"
    }
   ],
   "source": [
    "'I have eaten '+ '99' +' burritos.'"
   ]
  },
  {
   "cell_type": "code",
   "execution_count": null,
   "id": "36c9d4e6",
   "metadata": {},
   "outputs": [],
   "source": []
  }
 ],
 "metadata": {
  "kernelspec": {
   "display_name": "Python 3 (ipykernel)",
   "language": "python",
   "name": "python3"
  },
  "language_info": {
   "codemirror_mode": {
    "name": "ipython",
    "version": 3
   },
   "file_extension": ".py",
   "mimetype": "text/x-python",
   "name": "python",
   "nbconvert_exporter": "python",
   "pygments_lexer": "ipython3",
   "version": "3.9.7"
  }
 },
 "nbformat": 4,
 "nbformat_minor": 5
}
